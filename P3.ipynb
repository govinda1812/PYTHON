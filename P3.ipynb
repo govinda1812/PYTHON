{
 "cells": [
  {
   "cell_type": "code",
   "execution_count": 1,
   "id": "8bb6d6ca",
   "metadata": {},
   "outputs": [],
   "source": [
    "#Write a Python program to find the volume of a sphere with diameter 12 cm.\n"
   ]
  },
  {
   "cell_type": "code",
   "execution_count": 7,
   "id": "3e9e9d76",
   "metadata": {},
   "outputs": [
    {
     "name": "stdout",
     "output_type": "stream",
     "text": [
      "7238.229473870883\n"
     ]
    }
   ],
   "source": [
    "import math\n",
    "r=12.00\n",
    "v=(4/3)*math.pi*r*r*r\n",
    "print(v)"
   ]
  },
  {
   "cell_type": "code",
   "execution_count": null,
   "id": "92abacd6",
   "metadata": {},
   "outputs": [],
   "source": []
  }
 ],
 "metadata": {
  "kernelspec": {
   "display_name": "Python 3 (ipykernel)",
   "language": "python",
   "name": "python3"
  },
  "language_info": {
   "codemirror_mode": {
    "name": "ipython",
    "version": 3
   },
   "file_extension": ".py",
   "mimetype": "text/x-python",
   "name": "python",
   "nbconvert_exporter": "python",
   "pygments_lexer": "ipython3",
   "version": "3.9.12"
  }
 },
 "nbformat": 4,
 "nbformat_minor": 5
}
