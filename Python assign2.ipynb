{
 "cells": [
  {
   "cell_type": "code",
   "execution_count": 1,
   "id": "dfa8c2c3",
   "metadata": {},
   "outputs": [],
   "source": [
    "\n",
    "\n",
    "#2. Write a Python program to accept the user's first and last name and then getting them\n"
   ]
  },
  {
   "cell_type": "code",
   "execution_count": 2,
   "id": "acc341f8",
   "metadata": {},
   "outputs": [
    {
     "name": "stdout",
     "output_type": "stream",
     "text": [
      "pls enter your first namegovinda\n",
      "pls enter your last nameKumar\n",
      "Kumar govinda\n"
     ]
    }
   ],
   "source": [
    "def name(first, last):\n",
    "    print(last, end=\" \")\n",
    "    print(first)\n",
    "f= input(\"pls enter your first name\")\n",
    "l= input(\"pls enter your last name\")\n",
    "name(f,l)"
   ]
  },
  {
   "cell_type": "code",
   "execution_count": null,
   "id": "0b6ad949",
   "metadata": {},
   "outputs": [],
   "source": []
  }
 ],
 "metadata": {
  "kernelspec": {
   "display_name": "Python 3 (ipykernel)",
   "language": "python",
   "name": "python3"
  },
  "language_info": {
   "codemirror_mode": {
    "name": "ipython",
    "version": 3
   },
   "file_extension": ".py",
   "mimetype": "text/x-python",
   "name": "python",
   "nbconvert_exporter": "python",
   "pygments_lexer": "ipython3",
   "version": "3.9.12"
  }
 },
 "nbformat": 4,
 "nbformat_minor": 5
}
